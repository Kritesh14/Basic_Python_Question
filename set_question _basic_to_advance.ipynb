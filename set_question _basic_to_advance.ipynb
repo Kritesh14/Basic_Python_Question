{
 "cells": [
  {
   "cell_type": "markdown",
   "metadata": {},
   "source": [
    "Set Questions Basaic to Advance  Kritesh14"
   ]
  },
  {
   "cell_type": "markdown",
   "metadata": {},
   "source": [
    "1. What is a set in Python, and how is it different from a list?\n",
    "   \n",
    "A set in Python is an unordered collection of unique elements. Sets do not allow duplicate values, while a list allows duplicates and maintains the order of elements.\n",
    "\n",
    "\n"
   ]
  },
  {
   "cell_type": "markdown",
   "metadata": {},
   "source": [
    "2.How can you create a set in Python?\n",
    "\n"
   ]
  },
  {
   "cell_type": "code",
   "execution_count": 2,
   "metadata": {},
   "outputs": [
    {
     "name": "stdout",
     "output_type": "stream",
     "text": [
      "<class 'set'>\n",
      "{1, 2, 3, 4, 5}\n"
     ]
    }
   ],
   "source": [
    "#You can create a set using curly braces {}\n",
    "my_set = {1, 2, 3, 4, 5} #creat a set with \n",
    "print(type(my_set)) #check the type of the variable is set\n",
    "print(my_set) #output {1, 2, 3, 4, 5}\n",
    "\n"
   ]
  },
  {
   "cell_type": "markdown",
   "metadata": {},
   "source": [
    "3.How do you add an element to a set in Python?\n"
   ]
  },
  {
   "cell_type": "code",
   "execution_count": 9,
   "metadata": {},
   "outputs": [
    {
     "name": "stdout",
     "output_type": "stream",
     "text": [
      "{1, 2, 3, 4, 5, 6, 7, 8, 9, 10, 100}\n"
     ]
    }
   ],
   "source": [
    "#creat a set\n",
    "my_set = {1,2,3,4,5,6,7,8,9,10}\n",
    "my_set.add(100) #i use a add function to add 100 \n",
    "print(my_set)"
   ]
  },
  {
   "cell_type": "markdown",
   "metadata": {},
   "source": [
    "4. How do you remove an element from a set in Python? What happens if the element does not exist?\n",
    "\n"
   ]
  },
  {
   "cell_type": "code",
   "execution_count": 18,
   "metadata": {},
   "outputs": [
    {
     "name": "stdout",
     "output_type": "stream",
     "text": [
      "{'python', 5.7, 5, 'love', 6}\n"
     ]
    }
   ],
   "source": [
    "#creat a set\n",
    "my_set = {\"python\",\"love\",\"code\",4,5,6,5.7}\n",
    "my_set.remove(\"code\") # i use remove() to delete the element\n",
    "my_set.discard(4) # i also use  discard() to delete the element\n",
    "print(my_set)  #output {'python', 5.7, 5, 'love', 6}"
   ]
  },
  {
   "cell_type": "markdown",
   "metadata": {},
   "source": [
    "5.Can a set contain duplicate elements? Why or why not?\n",
    "\n"
   ]
  },
  {
   "cell_type": "code",
   "execution_count": 21,
   "metadata": {},
   "outputs": [
    {
     "name": "stdout",
     "output_type": "stream",
     "text": [
      "{1, 2, 3, 4, 5, 6, 7, 8, 9}\n"
     ]
    }
   ],
   "source": [
    "#creat a set\n",
    "my_set = {1,2,3,4,5,5,5,5,6,6,6,6,7,7,8,9,8,9}  #set cannot contain duplicate elements sets are designed to hold unique elements \n",
    "print(my_set)"
   ]
  },
  {
   "cell_type": "markdown",
   "metadata": {},
   "source": [
    "6.How can you check if an element exists in a set?\n"
   ]
  },
  {
   "cell_type": "code",
   "execution_count": 29,
   "metadata": {},
   "outputs": [
    {
     "data": {
      "text/plain": [
       "True"
      ]
     },
     "execution_count": 29,
     "metadata": {},
     "output_type": "execute_result"
    }
   ],
   "source": [
    "#creat a set\n",
    "my_set = {1,2,3,4,5,6,7,8,9,\"python\",6.6}\n",
    "2 in my_set #i use in operator to check if 2 is in the set #output: true\n",
    "\"python\" in my_set #check if \"python\" is in the set #output: true"
   ]
  },
  {
   "cell_type": "markdown",
   "metadata": {},
   "source": [
    "7. What is the difference between the discard() and remove() methods in Python sets?"
   ]
  },
  {
   "cell_type": "code",
   "execution_count": 37,
   "metadata": {},
   "outputs": [
    {
     "name": "stdout",
     "output_type": "stream",
     "text": [
      "{1, 2, 3, 4, 7, 8, 'love', 5.6, 'python', 'code'}\n"
     ]
    }
   ],
   "source": [
    "\n",
    "#creat a set\n",
    "my_set = {1,2,3,4,5,6,7,8,\"python\",\"love\",\"code\",5.6}\n",
    "my_set.remove(5) #The remove() method will raise a KeyError if the element is not found\n",
    "my_set.discard(6) # while discard()  will not raise an error if the element is absent. Both methods remove the element if it exists.\n",
    "print(my_set)"
   ]
  },
  {
   "cell_type": "markdown",
   "metadata": {},
   "source": [
    "8.How can you find the union of two sets in Python?"
   ]
  },
  {
   "cell_type": "code",
   "execution_count": 43,
   "metadata": {},
   "outputs": [
    {
     "name": "stdout",
     "output_type": "stream",
     "text": [
      "{2, 3, 4, 5, 6, 7, 8, 'hello', 6.7, 10, 7.8, 'python', 20, 'code', 30}\n"
     ]
    }
   ],
   "source": [
    "#creat a set\n",
    "my_set1 = {4,5,6,3,5,7,8,2,\"hello\",\"python\",6.7} #i Use the union() method or the | operator to find the union of two sets.\n",
    "my_set2 = (10,20,30,5,4,\"hello\",\"code\",6.7,7.8)\n",
    "unicon_myset = my_set1.union(my_set2)\n",
    "print(unicon_myset)"
   ]
  },
  {
   "cell_type": "markdown",
   "metadata": {},
   "source": [
    "9.What is the intersection of two sets, and how do you find it in Python?"
   ]
  },
  {
   "cell_type": "code",
   "execution_count": 45,
   "metadata": {},
   "outputs": [
    {
     "name": "stdout",
     "output_type": "stream",
     "text": [
      "{4, 5}\n"
     ]
    }
   ],
   "source": [
    "#creat a set\n",
    "my_set1 = {1, 2, 3, 4, 5} #The intersection is the set of elements that appear in both sets. You can find it using the intersection() method or the & operator.\n",
    "my_set2 = {4, 5, 6, 7, 8}\n",
    "intersection_no = my_set1.intersection(my_set2)\n",
    "print(intersection_no)"
   ]
  },
  {
   "cell_type": "markdown",
   "metadata": {},
   "source": [
    "10.How can you find the difference between two sets?"
   ]
  },
  {
   "cell_type": "code",
   "execution_count": 51,
   "metadata": {},
   "outputs": [
    {
     "name": "stdout",
     "output_type": "stream",
     "text": [
      "{'data science', 9.8, 'code python'}\n"
     ]
    }
   ],
   "source": [
    "#creat a set\n",
    "set1 = {1,2,3,4,5,6,7,\"python\",\"love\",\"code\",5.5,7.8}\n",
    "#The difference is the set of elements that are in the first set but not in the second. Use the difference() method or the - operator.\n",
    "set2 = {1,2,3,4,5,6,7,\"data science\",\"love\",\"code python\",9.8,7.8}\n",
    "diference_no = set2.difference(set1) # also use this difference_no = set1.differnce(set2) \n",
    "print(diference_no)"
   ]
  },
  {
   "cell_type": "markdown",
   "metadata": {},
   "source": [
    "11.What does the symmetric_difference() method do in Python sets?"
   ]
  },
  {
   "cell_type": "code",
   "execution_count": 52,
   "metadata": {},
   "outputs": [
    {
     "name": "stdout",
     "output_type": "stream",
     "text": [
      "{1, 2, 3, 6.7, 6, 8, 9, 10, 8.9, 30, 'Python', 40, 'hello', 50, 60, 70}\n"
     ]
    }
   ],
   "source": [
    "#creat a set\n",
    "#The symmetric_difference() method returns a set containing elements that are in either of the \n",
    "# sets, but not in both. You can use the ^ operator as well.\n",
    "set1 = {1,2,3,4,5,6,7,8,9,10,\"Python\",8.9,20} \n",
    "set2 = {20,30,40,50,60,70,\"hello\",6.7,4,5,7}\n",
    "symmetric_difference_no = set1.symmetric_difference(set2)\n",
    "print(symmetric_difference_no)\n"
   ]
  },
  {
   "cell_type": "markdown",
   "metadata": {},
   "source": [
    "12.Can you perform set operations on sets of different data types (e.g., strings and integers)?\n",
    "\n",
    "\n",
    "Yes, you can perform set operations on sets containing elements of different data types, but the elements should be hashable. In most cases, you can mix strings, integers, and other types in sets\n"
   ]
  },
  {
   "cell_type": "code",
   "execution_count": 56,
   "metadata": {},
   "outputs": [
    {
     "name": "stdout",
     "output_type": "stream",
     "text": [
      "{2, 3, 4, 'millions', 'python'}\n"
     ]
    }
   ],
   "source": [
    "#creat a set\n",
    "set1 = {\"hello\",\"python\",2,3,4,5,6,\"data\",\"millions\"}\n",
    "set2 ={\"python\",2,3,4,7,8,\"love\",\"millions\"}#set1 and set2 elements are common elements give output\n",
    "result = set1 & set2\n",
    "print(result) #output : {2, 3, 4, 'millions', 'python'}"
   ]
  },
  {
   "cell_type": "markdown",
   "metadata": {},
   "source": [
    "13. What is the time complexity of adding an element to a set in Python?\n",
    "    \n",
    "The time complexity of adding an element to a set is O(1) on average (constant time). However, in the worst case, it can be O(n), but this is rare due to Python's hash-based set implementation.\n"
   ]
  },
  {
   "cell_type": "code",
   "execution_count": 57,
   "metadata": {},
   "outputs": [
    {
     "name": "stdout",
     "output_type": "stream",
     "text": [
      "Time to add 1000 elements to the set: 0.00015 seconds\n",
      "Time to add 10000 elements to the set: 0.00181 seconds\n",
      "Time to add 100000 elements to the set: 0.01838 seconds\n",
      "Time to add 1000000 elements to the set: 0.14667 seconds\n"
     ]
    }
   ],
   "source": [
    "import time\n",
    "\n",
    "# Function to measure time taken to add elements to a set\n",
    "def measure_set_insertion_time(n):\n",
    "    test_set = set()\n",
    "    \n",
    "    start_time = time.time()  # Start time\n",
    "    for i in range(n):\n",
    "        test_set.add(i)  # Add element to the set\n",
    "    \n",
    "    end_time = time.time()  # End time\n",
    "    return end_time - start_time  # Return the time taken for insertion\n",
    "\n",
    "# Test the function with different numbers of elements\n",
    "n_values = [10**3, 10**4, 10**5, 10**6]  # Different sizes of sets\n",
    "for n in n_values:\n",
    "    time_taken = measure_set_insertion_time(n)\n",
    "    print(f\"Time to add {n} elements to the set: {time_taken:.5f} seconds\")\n"
   ]
  },
  {
   "cell_type": "markdown",
   "metadata": {},
   "source": [
    "14.What is a frozenset in Python, and how is it different from a regular set?\n",
    "\n",
    "    A frozenset in Python is an immutable version of a regular set. The main differences between a frozenset and a regular set are:\n",
    "\n",
    "    Immutability: A frozenset cannot be modified after it is created. You cannot add or remove elements from a frozenset.\n",
    "\n",
    "    Hashable: Because a frozenset is immutable, it is hashable and can be used as a key in a dictionary or as an element in another set. Regular sets are not hashable and cannot be used as dictionary keys or elements of other sets.\n",
    "\n",
    "    Set Operations: You can perform set operations like union, intersection, and difference on frozensets just like regular sets, but you cannot modify the frozenset itself (e.g., adding/removing elements)."
   ]
  },
  {
   "cell_type": "code",
   "execution_count": 58,
   "metadata": {},
   "outputs": [
    {
     "name": "stdout",
     "output_type": "stream",
     "text": [
      "Error: 'frozenset' object has no attribute 'add'\n",
      "{frozenset({1, 2, 3}): 'This is a frozenset'}\n",
      "Union: frozenset({1, 2, 3, 4, 5})\n",
      "Intersection: frozenset({3})\n"
     ]
    }
   ],
   "source": [
    "# Regular set\n",
    "regular_set = {1, 2, 3}\n",
    "\n",
    "# Frozenset (immutable)\n",
    "frozen_set = frozenset([1, 2, 3])\n",
    "\n",
    "# Trying to add an element to a frozenset (raises an AttributeError)\n",
    "try:\n",
    "    frozen_set.add(4)  # This will raise an error\n",
    "except AttributeError as e:\n",
    "    print(f\"Error: {e}\")\n",
    "\n",
    "# Frozensets can be used as dictionary keys\n",
    "my_dict = {frozen_set: \"This is a frozenset\"}\n",
    "print(my_dict)\n",
    "\n",
    "# Performing set operations on frozensets\n",
    "frozen_set2 = frozenset([3, 4, 5])\n",
    "union_set = frozen_set | frozen_set2  # Union of two frozensets\n",
    "print(\"Union:\", union_set)\n",
    "\n",
    "intersection_set = frozen_set & frozen_set2  # Intersection of two frozensets\n",
    "print(\"Intersection:\", intersection_set)\n"
   ]
  },
  {
   "cell_type": "markdown",
   "metadata": {},
   "source": [
    "15. How would you use a set to remove duplicates from a list in Python?\n",
    "    \n",
    "    You can convert a list to a set, which automatically removes duplicates, and then convert it back to a list if needed."
   ]
  },
  {
   "cell_type": "code",
   "execution_count": 59,
   "metadata": {},
   "outputs": [
    {
     "name": "stdout",
     "output_type": "stream",
     "text": [
      "Original List: [1, 2, 2, 3, 4, 4, 5]\n",
      "Unique List: [1, 2, 3, 4, 5]\n"
     ]
    }
   ],
   "source": [
    "#creat a list\n",
    "# Original list with duplicates\n",
    "my_list = [1, 2, 2, 3, 4, 4, 5]\n",
    "\n",
    "# Convert the list to a set to remove duplicates\n",
    "unique_set = set(my_list)\n",
    "\n",
    "# Convert the set back to a list\n",
    "unique_list = list(unique_set)\n",
    "\n",
    "print(\"Original List:\", my_list)\n",
    "print(\"Unique List:\", unique_list)\n"
   ]
  }
 ],
 "metadata": {
  "kernelspec": {
   "display_name": "Python 3",
   "language": "python",
   "name": "python3"
  },
  "language_info": {
   "codemirror_mode": {
    "name": "ipython",
    "version": 3
   },
   "file_extension": ".py",
   "mimetype": "text/x-python",
   "name": "python",
   "nbconvert_exporter": "python",
   "pygments_lexer": "ipython3",
   "version": "3.13.0"
  }
 },
 "nbformat": 4,
 "nbformat_minor": 2
}
