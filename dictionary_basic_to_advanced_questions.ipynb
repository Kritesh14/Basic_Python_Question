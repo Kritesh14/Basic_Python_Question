{
 "cells": [
  {
   "cell_type": "markdown",
   "metadata": {},
   "source": [
    "Dictionar Basic to Advanced Questions kritesh14"
   ]
  },
  {
   "cell_type": "markdown",
   "metadata": {},
   "source": [
    "1.What is a Python dictionary?\n",
    "\n",
    "    A dictionary in Python is an unordered collection of data in the form of key-value pairs.\n"
   ]
  },
  {
   "cell_type": "code",
   "execution_count": 3,
   "metadata": {},
   "outputs": [
    {
     "name": "stdout",
     "output_type": "stream",
     "text": [
      "<class 'dict'>\n",
      "{'name': 'kritesh', 'age': 19}\n"
     ]
    }
   ],
   "source": [
    "#creat a dictionary\n",
    "my_dict = {'name' : \"kritesh\",'age':19}\n",
    "print(type(my_dict)) #check the types of the variable\n",
    "print(my_dict) #output :{'name': 'kritesh', 'age': 19}"
   ]
  },
  {
   "cell_type": "markdown",
   "metadata": {},
   "source": [
    "2. How to create an empty dictionary?"
   ]
  },
  {
   "cell_type": "code",
   "execution_count": 5,
   "metadata": {},
   "outputs": [
    {
     "name": "stdout",
     "output_type": "stream",
     "text": [
      "{}\n"
     ]
    }
   ],
   "source": [
    "#You can create an empty dictionary using curly braces {} or the dict() constructor.\n",
    "\n",
    "empty_dict = {}\n",
    "print(empty_dict) # Output: {}"
   ]
  },
  {
   "cell_type": "markdown",
   "metadata": {},
   "source": [
    "3. How to access values in a dictionary?"
   ]
  },
  {
   "cell_type": "code",
   "execution_count": 9,
   "metadata": {},
   "outputs": [
    {
     "name": "stdout",
     "output_type": "stream",
     "text": [
      "Kritesh\n",
      "18\n"
     ]
    }
   ],
   "source": [
    "#You access values by referring to the key within square brackets or using the get() method\n",
    "#creat a dictionary\n",
    "my_dict = {'name':\"Kritesh\", 'age':18}\n",
    "print(my_dict['name']) #i acces only name #output : Kritesh\n",
    "print(my_dict['age']) #i acces only age #output : 18"
   ]
  },
  {
   "cell_type": "markdown",
   "metadata": {},
   "source": [
    "4. How to add a new key-value pair to a dictionary?"
   ]
  },
  {
   "cell_type": "code",
   "execution_count": 13,
   "metadata": {},
   "outputs": [
    {
     "name": "stdout",
     "output_type": "stream",
     "text": [
      "<class 'dict'>\n",
      "{'name': 'kritesh', 'age': 18, 'city': 'khalilabad'}\n"
     ]
    }
   ],
   "source": [
    "#creat a dictionary\n",
    "my_dict = {'name': \"kritesh\",'age':18,}\n",
    "my_dict['city'] = 'khalilabad' #add a new key- value in my_dict\n",
    "print(type(my_dict))\n",
    "print(my_dict) #output: {'name': 'kritesh', 'age': 18, 'city': 'khalilabad'}"
   ]
  },
  {
   "cell_type": "markdown",
   "metadata": {},
   "source": [
    "5. How to update the value of an existing key?"
   ]
  },
  {
   "cell_type": "code",
   "execution_count": 15,
   "metadata": {},
   "outputs": [
    {
     "name": "stdout",
     "output_type": "stream",
     "text": [
      "{'name': 'kritesh', 'age': 18, 'city': 'lucknow'}\n"
     ]
    }
   ],
   "source": [
    "#creat a dictionary\n",
    "my_dict = {'name': 'kritesh', 'age': 18, 'city': 'khalilabad'}\n",
    "my_dict['city'] = 'lucknow' # i upate the city now #output is city lucknow\n",
    "print(my_dict) #output: {'name': 'kritesh', 'age': 18, 'city': 'lucknow'}"
   ]
  },
  {
   "cell_type": "markdown",
   "metadata": {},
   "source": [
    "6. How to remove a key-value pair from a dictionary?"
   ]
  },
  {
   "cell_type": "code",
   "execution_count": 21,
   "metadata": {},
   "outputs": [
    {
     "name": "stdout",
     "output_type": "stream",
     "text": [
      "{'name': 'kritesh', 'city': 'khalilabad'}\n",
      "{'name': 'kritesh', 'age': 18}\n"
     ]
    }
   ],
   "source": [
    "# I remove a key-value pair using the del keyword or the pop() method.\n",
    "my_dict = {'name': 'kritesh', 'age': 18, 'city': 'khalilabad'}\n",
    "#del keyword used\n",
    "del my_dict['age'] #  remove a key-value i use a del keyword\n",
    "print(my_dict)\n",
    "\n",
    "#Or\n",
    "my_dict1 = {'name': 'kritesh', 'age': 18, 'city': 'khalilabad'}\n",
    "#pop () method used\n",
    "my_dict1.pop('city') #remove a key-value i use a pop method \n",
    "print(my_dict1) "
   ]
  },
  {
   "cell_type": "markdown",
   "metadata": {},
   "source": [
    "7. How to check if a key exists in a dictionary?"
   ]
  },
  {
   "cell_type": "code",
   "execution_count": 24,
   "metadata": {},
   "outputs": [
    {
     "name": "stdout",
     "output_type": "stream",
     "text": [
      "True\n"
     ]
    }
   ],
   "source": [
    "#creat a dictionary\n",
    "my_dict = {'name': 'kritesh', 'city': 'khalilabad'}\n",
    "print('city' in my_dict) #check the key in dictionary output : true"
   ]
  },
  {
   "cell_type": "markdown",
   "metadata": {},
   "source": [
    "8. How to iterate over the keys, values, and key-value pairs in a dictionary?"
   ]
  },
  {
   "cell_type": "code",
   "execution_count": 28,
   "metadata": {},
   "outputs": [
    {
     "name": "stdout",
     "output_type": "stream",
     "text": [
      "name\n",
      "age\n",
      "kritesh\n",
      "18\n",
      "name:kritesh\n",
      "age:18\n"
     ]
    }
   ],
   "source": [
    "#creat a dictionary You can use a for loop to iterate through keys, values, or both.\n",
    "my_dict = {'name': 'kritesh', 'age': 18}\n",
    "for key in my_dict:\n",
    "    print(key)\n",
    "for value in my_dict.values():\n",
    "    print(value)\n",
    "    \n",
    "for key, value in my_dict.items():\n",
    "    print(f'{key}:{value}')"
   ]
  },
  {
   "cell_type": "markdown",
   "metadata": {},
   "source": [
    "9. How to merge two dictionaries?"
   ]
  },
  {
   "cell_type": "code",
   "execution_count": 30,
   "metadata": {},
   "outputs": [
    {
     "name": "stdout",
     "output_type": "stream",
     "text": [
      "{'name': 'kritesh', 'age': 18, 'city': 'khalilabad', 'pincode': 272175}\n"
     ]
    }
   ],
   "source": [
    "#creat a dictionary\n",
    "dict1 = {'name':\"kritesh\",'age':18}\n",
    "dict2 = {'city': \"khalilabad\",'pincode':272175}\n",
    "#update the dictionary \n",
    "dict1.update(dict2)\n",
    "print(dict1) #output:{'name': 'kritesh', 'age': 18, 'city': 'khalilabad', 'pincode': 272175}"
   ]
  },
  {
   "cell_type": "markdown",
   "metadata": {},
   "source": [
    "10. What is the difference between pop() and popitem() methods?\n",
    "\n",
    "    pop() removes a key-value pair by the specified key, while popitem() removes and returns the last inserted key-value pair (Python 3.7+).\n"
   ]
  },
  {
   "cell_type": "code",
   "execution_count": 39,
   "metadata": {},
   "outputs": [
    {
     "name": "stdout",
     "output_type": "stream",
     "text": [
      "{'name': 'kritesh', 'age': 18}\n",
      "{'name': 'kritesh', 'city': 'khalilabad'}\n"
     ]
    }
   ],
   "source": [
    "#crate a dictionary\n",
    "dict1 = {'name': 'kritesh', 'age': 18, 'city': 'khalilabad', 'pincode': 272175}\n",
    "#pop method\n",
    "dict1.pop ('age') # pop is remove pincode \n",
    "print(my_dict1)\n",
    "#popitme method\n",
    "dict1.popitem() #popitem is remove last item\n",
    "print(dict1)\n",
    "\n"
   ]
  },
  {
   "cell_type": "markdown",
   "metadata": {},
   "source": [
    "11. How to create a dictionary using a list of tuples (key-value pairs)?\n",
    "\n",
    "    You can create a dictionary from a list of tuples by passing it to the dict() constructor.\n"
   ]
  },
  {
   "cell_type": "code",
   "execution_count": 46,
   "metadata": {},
   "outputs": [
    {
     "name": "stdout",
     "output_type": "stream",
     "text": [
      "<class 'dict'>\n",
      "{'name': 'kritesh', 'age': 18, 'city': 'khalilabad', 'pincode': 272175}\n"
     ]
    }
   ],
   "source": [
    "#creat a tuple\n",
    "my_tuple = [('name', 'kritesh'), ('age', 18), ('city', 'khalilabad'),('pincode',272175)]\n",
    "dict_no = dict(my_tuple)\n",
    "print(type(dict_no))\n",
    "print(dict_no)"
   ]
  },
  {
   "cell_type": "markdown",
   "metadata": {},
   "source": [
    "12. How to handle missing keys safely when accessing a dictionary?\n",
    "\n",
    "    You can use the get() method to avoid raising a KeyError when a key is not found.\n"
   ]
  },
  {
   "cell_type": "code",
   "execution_count": 50,
   "metadata": {},
   "outputs": [
    {
     "name": "stdout",
     "output_type": "stream",
     "text": [
      "not avalible\n"
     ]
    }
   ],
   "source": [
    "#creat a dict \n",
    "my_dict = {'name': 'kritesh', 'age': 18, 'city': 'khalilabad', 'pincode': 272175}\n",
    "print(my_dict.get ('country', \"not avalible\")) # i use a get method()"
   ]
  },
  {
   "cell_type": "markdown",
   "metadata": {},
   "source": [
    "13. How to count the occurrences of each element in a list and store the result in a dictionary?\n",
    "    \n",
    "    You can use a loop or the collections.Counter class to count the occurrences of elements.\n"
   ]
  },
  {
   "cell_type": "code",
   "execution_count": 54,
   "metadata": {},
   "outputs": [
    {
     "name": "stdout",
     "output_type": "stream",
     "text": [
      "Counter({'apple': 3, 'banana': 2, 'orange': 1})\n"
     ]
    }
   ],
   "source": [
    "\n",
    "from collections import Counter\n",
    "my_list = ['apple', 'banana', 'apple', 'orange', 'banana', 'apple']\n",
    "count_dict = Counter(my_list)\n",
    "print(count_dict) #output: Counter({'apple': 3, 'banana': 2, 'orange': 1})"
   ]
  },
  {
   "cell_type": "markdown",
   "metadata": {},
   "source": [
    "14. How to use a dictionary comprehension to create a dictionary from a list?\n",
    "\n",
    "    Dictionary comprehensions allow you to create dictionaries dynamically."
   ]
  },
  {
   "cell_type": "code",
   "execution_count": 55,
   "metadata": {},
   "outputs": [
    {
     "name": "stdout",
     "output_type": "stream",
     "text": [
      "{'apple': 5, 'banana': 6, 'cherry': 6}\n"
     ]
    }
   ],
   "source": [
    "my_list = ['apple', 'banana', 'cherry']\n",
    "my_dict = {fruit: len(fruit) for fruit in my_list}\n",
    "print(my_dict) #output: {'apple': 5, 'banana': 6, 'cherry': 6}"
   ]
  },
  {
   "cell_type": "markdown",
   "metadata": {},
   "source": [
    "15. How to use default dictionaries in Python?\n",
    "    \n",
    "     A defaultdict is a subclass of dict that provides a default value for nonexistent keys.\n"
   ]
  },
  {
   "cell_type": "code",
   "execution_count": 57,
   "metadata": {},
   "outputs": [
    {
     "name": "stdout",
     "output_type": "stream",
     "text": [
      "0\n"
     ]
    }
   ],
   "source": [
    "from collections import defaultdict\n",
    "\n",
    "dd = defaultdict(int)\n",
    "dd['a'] = 1\n",
    "dd['b'] = 2\n",
    "print(dd['c']) #output : 0 default value "
   ]
  }
 ],
 "metadata": {
  "kernelspec": {
   "display_name": "Python 3",
   "language": "python",
   "name": "python3"
  },
  "language_info": {
   "codemirror_mode": {
    "name": "ipython",
    "version": 3
   },
   "file_extension": ".py",
   "mimetype": "text/x-python",
   "name": "python",
   "nbconvert_exporter": "python",
   "pygments_lexer": "ipython3",
   "version": "3.13.0"
  }
 },
 "nbformat": 4,
 "nbformat_minor": 2
}
