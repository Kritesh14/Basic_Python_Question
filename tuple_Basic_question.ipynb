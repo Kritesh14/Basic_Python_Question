{
 "cells": [
  {
   "cell_type": "markdown",
   "metadata": {},
   "source": [
    "Tuple() Basic Question in python"
   ]
  },
  {
   "cell_type": "markdown",
   "metadata": {},
   "source": [
    "1. What is a tuple in Python? How is it different from a list?\n",
    "\n",
    "Tuple: A tuple is an ordered, immutable collection of elements. It is similar to a list, but unlike a list, a tuple cannot be modified after it is created. Tuples are created using parentheses () while lists are created using square brackets [].\n",
    "\n",
    "Difference:\n",
    "\n",
    "Immutability: Tuples are immutable, meaning once they are created, their elements cannot be changed, added, or removed. Lists, on the other hand, are mutable.\n",
    "\n",
    "Syntax: Tuples use () and lists use [].\n",
    "\n",
    "Performance: Tuples are generally faster than lists for iterating through elements, as their immutability makes them more efficient."
   ]
  },
  {
   "cell_type": "markdown",
   "metadata": {},
   "source": [
    "2. How do you create a tuple?"
   ]
  },
  {
   "cell_type": "code",
   "execution_count": 1,
   "metadata": {},
   "outputs": [
    {
     "name": "stdout",
     "output_type": "stream",
     "text": [
      "<class 'tuple'>\n",
      "(1, 2, 3, 4, 5, 6)\n"
     ]
    }
   ],
   "source": [
    "#creating a tuple\n",
    "my_tuple = (1,2,3,4,5,6)\n",
    "print(type(my_tuple)) #check the type of the variable\n",
    "print(my_tuple) "
   ]
  },
  {
   "cell_type": "markdown",
   "metadata": {},
   "source": [
    "3. How can you access elements in a tuple?"
   ]
  },
  {
   "cell_type": "code",
   "execution_count": 2,
   "metadata": {},
   "outputs": [
    {
     "name": "stdout",
     "output_type": "stream",
     "text": [
      "python\n"
     ]
    }
   ],
   "source": [
    "#You can access elements in a tuple using indexing, just like in lists. \n",
    "# The index starts from 0 for the first element.\n",
    "my_tuple = (1,2,3,4,5,\"python\",\"love\",5.6)\n",
    "print(my_tuple[5]) #indexing a tuple is similar to a list, but it's 0-indexed. So, the first\n",
    "#output will be \"python\" because it's the 6th element in the tuple."
   ]
  },
  {
   "cell_type": "markdown",
   "metadata": {},
   "source": [
    "4. Can you modify elements of a tuple? Why or why not?"
   ]
  },
  {
   "cell_type": "code",
   "execution_count": 5,
   "metadata": {},
   "outputs": [],
   "source": [
    "#No, you cannot modify the elements of a tuple because tuples are immutable. \n",
    "# This means once a tuple is created, its content cannot be altered \n",
    "# (i.e., you can't add, delete, or change elements).\n",
    "\n",
    "# Attempting to modify a tuple element will result in an error\n",
    "#my_tuple = (1, 2, 3)\n",
    "#my_tuple[0] = 10  # This will raise a TypeError\n",
    "#print(my_tuple)"
   ]
  },
  {
   "cell_type": "markdown",
   "metadata": {},
   "source": [
    "Or Yes tuple can be modify tuple change in list,set then convert to tuple i can do that"
   ]
  },
  {
   "cell_type": "code",
   "execution_count": 12,
   "metadata": {},
   "outputs": [
    {
     "name": "stdout",
     "output_type": "stream",
     "text": [
      "<class 'list'>\n",
      "['Hello', 'I', 'Love', 'python', 5.7, 100]\n",
      "<class 'tuple'>\n",
      "('Hello', 'I', 'Love', 'python', 5.7, 100)\n"
     ]
    }
   ],
   "source": [
    "# i creat a tuple \n",
    "my_tuple = (\"Hello\",\"I\",\"Love\",\"python\",5.7)\n",
    "lists = list(my_tuple) #i convert tuple to list\n",
    "print(type(lists)) #check the type of the list output is <class 'list'>\n",
    "lists.append(100) # i add a new element to the list 100\n",
    "print(lists) #output is ['Hello', 'I', 'Love', 'python', 5.7, 100]\n",
    "convert_tuple = tuple(lists) #i convert list to tuple\n",
    "print(type(convert_tuple)) #check in the type of the tuple output is <class 'tuple'>\n",
    "print(convert_tuple) #output is ('Hello', 'I', 'Love', 'python', 5.7, 100)"
   ]
  },
  {
   "cell_type": "markdown",
   "metadata": {},
   "source": [
    "5. How do you concatenate two tuples?\n"
   ]
  },
  {
   "cell_type": "code",
   "execution_count": 14,
   "metadata": {},
   "outputs": [
    {
     "name": "stdout",
     "output_type": "stream",
     "text": [
      "<class 'tuple'>\n",
      "(1, 2, 3, 4, 5, 6, 7, 8, 9, 10)\n"
     ]
    }
   ],
   "source": [
    "#concatenating tupe\n",
    "my_typle1 = (1,2,3,4,5) #create 1 tuple\n",
    "my_tuple2 = (6,7,8,9,10) #create 2 tuple\n",
    "result = my_typle1 + my_tuple2 # i use + operator to concatenate the two tuples\n",
    "print(type(result)) # check the type of result \n",
    "print(result) #print the result #output is (1, 2, 3, 4, 5, 6, 7, 8, 9, 10)"
   ]
  },
  {
   "cell_type": "markdown",
   "metadata": {},
   "source": [
    "6. How do you unpack a tuple?\n",
    "\n",
    "Tuple unpacking allows you to assign the elements of a tuple to multiple variables. The number of variables must match the number of elements in the tuple."
   ]
  },
  {
   "cell_type": "code",
   "execution_count": 16,
   "metadata": {},
   "outputs": [
    {
     "name": "stdout",
     "output_type": "stream",
     "text": [
      "(1, 2, 3)\n"
     ]
    }
   ],
   "source": [
    "#unpacking a tuple\n",
    "tuple1 = (1, 2, 3)\n",
    "a, b, c = tuple1\n",
    "print(tuple1) #output is (1, 2, 3)"
   ]
  },
  {
   "cell_type": "markdown",
   "metadata": {},
   "source": [
    "7. How do you convert a list to a tuple and vice versa?\n",
    "   \n",
    "List to Tuple: You can convert a list to a tuple using the tuple() function.\n",
    "\n"
   ]
  },
  {
   "cell_type": "code",
   "execution_count": 17,
   "metadata": {},
   "outputs": [
    {
     "name": "stdout",
     "output_type": "stream",
     "text": [
      "(1, 2, 3)\n"
     ]
    }
   ],
   "source": [
    "# Converting a list to a tuple\n",
    "my_list = [1, 2, 3]\n",
    "my_tuple = tuple(my_list)\n",
    "print(my_tuple)  # Output: (1, 2, 3)\n"
   ]
  },
  {
   "cell_type": "markdown",
   "metadata": {},
   "source": [
    "Tuple to List: You can convert a tuple to a list using the list() function."
   ]
  },
  {
   "cell_type": "code",
   "execution_count": 19,
   "metadata": {},
   "outputs": [
    {
     "name": "stdout",
     "output_type": "stream",
     "text": [
      "<class 'list'>\n",
      "[2, 3, 4, 5, 6]\n"
     ]
    }
   ],
   "source": [
    "my_tuple = (2,3,4,5,6)\n",
    "lists1 = list(my_tuple) # converting tuple to list\n",
    "print(type(lists1)) #check the type of my_tuple\n",
    "print(lists1) #output is "
   ]
  },
  {
   "cell_type": "markdown",
   "metadata": {},
   "source": [
    "8.  How do you check if an item exists in a tuple?\n",
    "\n",
    "You can use the in keyword to check if an item exists in a tuple."
   ]
  },
  {
   "cell_type": "code",
   "execution_count": 28,
   "metadata": {},
   "outputs": [
    {
     "name": "stdout",
     "output_type": "stream",
     "text": [
      "True\n",
      "False\n"
     ]
    }
   ],
   "source": [
    "#check if in item exists in a tuple\n",
    "tuples = (1,500 ,400 , 300, 200, 100)\n",
    "print(300 in tuples) #output is true\n",
    "print(1000 in tuples) #output is false"
   ]
  },
  {
   "cell_type": "markdown",
   "metadata": {},
   "source": [
    "9. Can you add items to a tuple after it’s created?\n",
    "\n",
    "A tuple is an immutable data structure, which means you cannot add or remove items from it after it\n",
    "No, you cannot add items directly to a tuple after it is created because tuples are immutable. However, you can concatenate an existing tuple with a new one to simulate \"adding\" items."
   ]
  },
  {
   "cell_type": "code",
   "execution_count": 29,
   "metadata": {},
   "outputs": [
    {
     "name": "stdout",
     "output_type": "stream",
     "text": [
      "(1, 2, 3, 4, 5)\n",
      "(10, 20, 30, 40, 50, 60, 70, 80, 90, 100)\n"
     ]
    }
   ],
   "source": [
    "# Adding items (via concatenation)\n",
    "my_tuple = (1, 2, 3)\n",
    "new_tuple = my_tuple + (4, 5)\n",
    "print(new_tuple)  # Output: (1, 2, 3, 4, 5)\n",
    "\n",
    "my_typle1 = (10,20,30,40,50,)\n",
    "new_tuple1 = my_typle1 + (60,70,80,90,100)\n",
    "print(new_tuple1) #output : (10, 20, 30, 40, 50, 60, 70, 80, 90, 100)"
   ]
  },
  {
   "cell_type": "markdown",
   "metadata": {},
   "source": [
    "10.How do you find the length of a tuple?\n",
    "\n",
    "You can use the len() function to find the length of a tuple, which returns the number of elements."
   ]
  },
  {
   "cell_type": "code",
   "execution_count": 31,
   "metadata": {},
   "outputs": [
    {
     "name": "stdout",
     "output_type": "stream",
     "text": [
      "14\n"
     ]
    }
   ],
   "source": [
    "#find the length of a tuple \n",
    "my_tuple = (1,2,3,4,5,6,7,8,9,\"hello\",\"list\",\"python\",7.8,60.6)\n",
    "print(len(my_tuple))  # Output: 14"
   ]
  },
  {
   "cell_type": "markdown",
   "metadata": {},
   "source": [
    "11. How do you count the occurrences of an element in a tuple?\n",
    "\n",
    "You can use the count() method to count the occurrences of an element in a tuple."
   ]
  },
  {
   "cell_type": "code",
   "execution_count": 34,
   "metadata": {},
   "outputs": [
    {
     "name": "stdout",
     "output_type": "stream",
     "text": [
      "9\n"
     ]
    }
   ],
   "source": [
    "#counting the occurrences of an element \n",
    "my_tuple = (10,29,9,8,7,6,4,\"hello\",10,10,\"python\",6.7,10,10,10,10,10,10)\n",
    "print(my_tuple.count(10)) #output is: 10"
   ]
  },
  {
   "cell_type": "markdown",
   "metadata": {},
   "source": [
    "12.How do you find the index of an element in a tuple?\n",
    "\n",
    "You can use the index() method to find the index of the first occurrence of an element in a tuple.\n"
   ]
  },
  {
   "cell_type": "code",
   "execution_count": 37,
   "metadata": {},
   "outputs": [
    {
     "name": "stdout",
     "output_type": "stream",
     "text": [
      "7\n"
     ]
    }
   ],
   "source": [
    "#finding the index of an element in a tuple\n",
    "my_tuple = (10,29,9,8,7,6,4,\"hello\",10,10,\"python\",6.7,)\n",
    "index = my_tuple.index(\"hello\")\n",
    "print(index) # Output: 7"
   ]
  },
  {
   "cell_type": "markdown",
   "metadata": {},
   "source": [
    "13.How do you create a tuple with a single element?\n",
    "\n",
    "To create a tuple with a single element, you must include a trailing comma."
   ]
  },
  {
   "cell_type": "code",
   "execution_count": 38,
   "metadata": {},
   "outputs": [
    {
     "name": "stdout",
     "output_type": "stream",
     "text": [
      "('apple',)\n"
     ]
    }
   ],
   "source": [
    "#creating a single element tuple\n",
    "my_tuple = ('apple',)\n",
    "print(my_tuple)"
   ]
  },
  {
   "cell_type": "markdown",
   "metadata": {},
   "source": [
    "14. Can a tuple contain other tuples as elements?\n",
    "\n",
    "Yes, a tuple can contain other tuples as elements. This allows you to create nested or multi-dimensional tuples."
   ]
  },
  {
   "cell_type": "code",
   "execution_count": 39,
   "metadata": {},
   "outputs": [
    {
     "name": "stdout",
     "output_type": "stream",
     "text": [
      "(3, 5, 'hello', 5.7)\n"
     ]
    }
   ],
   "source": [
    "#tuple contaning a other tuple\n",
    "nested_tuple = ((3),(5),(\"hello\"),(5.7))\n",
    "print(nested_tuple) #output : ((3), (5), ('hello'), (5.7))"
   ]
  }
 ],
 "metadata": {
  "kernelspec": {
   "display_name": "Python 3",
   "language": "python",
   "name": "python3"
  },
  "language_info": {
   "codemirror_mode": {
    "name": "ipython",
    "version": 3
   },
   "file_extension": ".py",
   "mimetype": "text/x-python",
   "name": "python",
   "nbconvert_exporter": "python",
   "pygments_lexer": "ipython3",
   "version": "3.13.0"
  }
 },
 "nbformat": 4,
 "nbformat_minor": 2
}
