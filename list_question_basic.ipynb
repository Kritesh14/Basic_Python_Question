{
 "cells": [
  {
   "cell_type": "markdown",
   "metadata": {},
   "source": [
    "Basic Python List[]  Question Kritesh14\n"
   ]
  },
  {
   "cell_type": "markdown",
   "metadata": {},
   "source": [
    "1.What is a list in Python? How do you create a list?\n"
   ]
  },
  {
   "cell_type": "code",
   "execution_count": 3,
   "metadata": {},
   "outputs": [
    {
     "name": "stdout",
     "output_type": "stream",
     "text": [
      "<class 'list'>\n",
      "[1, 2, 3, 'python', 5.9, 'code']\n"
     ]
    }
   ],
   "source": [
    "my_list = [1,2,3,'python',5.9,\"code\"] #create a list\n",
    "print(type(my_list)) #check the type of the list\n",
    "print(my_list) #print the list"
   ]
  },
  {
   "cell_type": "markdown",
   "metadata": {},
   "source": [
    "2.How can you access elements in a list?\n"
   ]
  },
  {
   "cell_type": "code",
   "execution_count": 5,
   "metadata": {},
   "outputs": [
    {
     "name": "stdout",
     "output_type": "stream",
     "text": [
      "<class 'list'>\n",
      "python\n"
     ]
    }
   ],
   "source": [
    "my_list = [1,2,3,'python',5.9,\"code\"] #create a list\n",
    "print(type(my_list)) #check the type of list\n",
    "print(my_list[3]) #print the 4th element of the list (remember that indexing starts at 0)\n"
   ]
  },
  {
   "cell_type": "markdown",
   "metadata": {},
   "source": [
    "3.How do you add an element to the list?\n"
   ]
  },
  {
   "cell_type": "code",
   "execution_count": 9,
   "metadata": {},
   "outputs": [
    {
     "name": "stdout",
     "output_type": "stream",
     "text": [
      "<class 'list'>\n",
      "[1, 2, 3, 'python', 5.9, 'code', 'I Love Coding']\n"
     ]
    }
   ],
   "source": [
    "my_list = [1,2,3,'python',5.9,\"code\"]\n",
    "my_list.append('I Love Coding') #I use append () function to add a new element to the list\n",
    "print(type(my_list))#check the type of the list\n",
    "print(my_list) #add the new element to the list and print"
   ]
  },
  {
   "cell_type": "markdown",
   "metadata": {},
   "source": [
    "4.How can you remove an element from a list?\n"
   ]
  },
  {
   "cell_type": "code",
   "execution_count": 15,
   "metadata": {},
   "outputs": [
    {
     "name": "stdout",
     "output_type": "stream",
     "text": [
      "<class 'list'>\n",
      "[1, 2, 3, 5.9, 'I Love Coding']\n"
     ]
    }
   ],
   "source": [
    "my_list = [1, 2, 3, 'python', 5.9, 'code', 'I Love Coding']#creat a list\n",
    "my_list.pop(5)#i pop the code element name in list with pop to remove by index\n",
    "my_list.remove('python')# i use remove method to remove python element name in list\n",
    "print(type(my_list)) #check the type of the list\n",
    "print(my_list)#check the output of the list after removing elements remove and pop method"
   ]
  },
  {
   "cell_type": "markdown",
   "metadata": {},
   "source": [
    "5.How do you slice a list?\n"
   ]
  },
  {
   "cell_type": "code",
   "execution_count": 18,
   "metadata": {},
   "outputs": [
    {
     "name": "stdout",
     "output_type": "stream",
     "text": [
      "<class 'list'>\n",
      "['python', 'code', 5.9]\n"
     ]
    }
   ],
   "source": [
    "my_list = [1, 2, 3, 'python','code', 5.9, 'I Love Coding']#creat a list\n",
    "sliced_list = my_list[3:6] #i use 3:6 to get the elements from index slice 3 to 5 output is 3 to 5 index\n",
    "print(type(sliced_list))#check the type of the list\n",
    "print(sliced_list)#only print 3:6 index slice of the list"
   ]
  },
  {
   "cell_type": "markdown",
   "metadata": {},
   "source": [
    "6.What are list comprehensions and how do you use them?\n"
   ]
  },
  {
   "cell_type": "code",
   "execution_count": 25,
   "metadata": {},
   "outputs": [
    {
     "name": "stdout",
     "output_type": "stream",
     "text": [
      "<class 'list'>\n",
      "[1, 4, 9, 16, 25, 36, 49, 64, 81, 100, 121, 144, 169, 196, 225, 256, 289, 324, 361, 400, 441, 484, 529, 576, 625, 676, 729, 784, 841, 900, 961, 1024, 1089, 1156, 1225, 1296, 1369, 1444, 1521, 1600, 1681, 1764, 1849, 1936, 2025, 2116, 2209, 2304, 2401]\n"
     ]
    }
   ],
   "source": [
    "#1:- We want to generate a list of squares of numbers from 0 to 10\n",
    "#1.1:- The range(11) will generate numbers from 0 to 10 (inclusive).\n",
    "\n",
    "#2:- The list comprehension will square each number.\n",
    "squares = [x**2 for x in range(1,50)] # 1 to 50 squares no check the output of this code\n",
    "# Step 3: Printing the result to verify the squares\n",
    "print(type(squares)) #check the type of the variable squares\n",
    "print(squares) \n"
   ]
  },
  {
   "cell_type": "markdown",
   "metadata": {},
   "source": [
    "7.How do you sort a list in Python?\n"
   ]
  },
  {
   "cell_type": "code",
   "execution_count": 26,
   "metadata": {},
   "outputs": [
    {
     "name": "stdout",
     "output_type": "stream",
     "text": [
      "<class 'list'>\n",
      "[1, 2, 3, 4, 5, 20, 30, 40, 40, 50, 55, 90, 100]\n"
     ]
    }
   ],
   "source": [
    "numbers = [1, 2, 3, 4, 5,40,50,20,100,30,40,55,90]#define a list of number\n",
    "numbers.sort() #use sort() to sort the list in ascending order\n",
    "print(type(numbers)) #check the type of the list\n",
    "print(numbers) #print the sorted list\n"
   ]
  },
  {
   "cell_type": "markdown",
   "metadata": {},
   "source": [
    "7.How do you concatenate two lists?\n"
   ]
  },
  {
   "cell_type": "code",
   "execution_count": 28,
   "metadata": {},
   "outputs": [
    {
     "name": "stdout",
     "output_type": "stream",
     "text": [
      "<class 'list'>\n",
      "['Hello', 'I', 'Love ', 'Python', 'Language', 1, 2, 3, 4, 5, 7]\n"
     ]
    }
   ],
   "source": [
    "my_list1 = [\"Hello\",\"I\",\"Love \",\"Python\",\"Language\"] #define a 2 list my_list1 and my_list2\n",
    "my_list2 = [1,2,3,4,5,7]\n",
    "concats= my_list1+my_list2 #concatenate the two list I i use + operator to add the two list together\n",
    "print(type(concats))#check the type of the new list\n",
    "print(concats)#print the new list"
   ]
  },
  {
   "cell_type": "markdown",
   "metadata": {},
   "source": [
    "8.What is the difference between append(), extend(), and insert() methods in a list?\n"
   ]
  },
  {
   "cell_type": "code",
   "execution_count": 33,
   "metadata": {},
   "outputs": [
    {
     "name": "stdout",
     "output_type": "stream",
     "text": [
      "<class 'list'>\n",
      "[1, 2, 3, 4, 5, 6]\n",
      "<class 'list'>\n",
      "[1, 2, 3, 4, 5, 6, 6, 7, 8, 9, 10]\n",
      "<class 'list'>\n",
      "[1, 2, 3, 4, 5, 6, 6, 7, 8, 9, 10, 100]\n"
     ]
    }
   ],
   "source": [
    "#append() adds a single element to the end of the list.\n",
    "#extend() adds all elements from another iterable to the end of the list.\n",
    "#insert() inserts an element at a specified index in the list.\n",
    "\n",
    "#define a list\n",
    "my_list = [1, 2, 3, 4, 5] \n",
    "my_list.append(6) #Use append() to add a single element (6) to the end of the list\n",
    "print(type(my_list)) #check the type of my_list\n",
    "print(my_list)\n",
    "\n",
    "my_list.extend([6,7,8,9,10]) #use extend() to add multiple elements to the end of the list\n",
    "print(type(my_list)) #check the type of my_list\n",
    "print(my_list)\n",
    "\n",
    "my_list.insert(90,100) #use insert () to insert multiple elements at a specified index in the list\n",
    "print(type(my_list)) #check the type of the list\n",
    "print(my_list)\n"
   ]
  },
  {
   "cell_type": "markdown",
   "metadata": {},
   "source": [
    "9.How do you find the index of an element in a list?"
   ]
  },
  {
   "cell_type": "code",
   "execution_count": 36,
   "metadata": {},
   "outputs": [
    {
     "name": "stdout",
     "output_type": "stream",
     "text": [
      "<class 'list'>\n",
      "5\n",
      "<class 'list'>\n",
      "3\n",
      "Element not found\n"
     ]
    }
   ],
   "source": [
    "my_list = [10,20,30,40,50,60,70,80] #Define a  list\n",
    "index_no = my_list.index(60) #Find the index of 60 in the list\n",
    "print(type(my_list)) #check the type of the list\n",
    "print(index_no) #Print the index\n",
    "\n",
    "my_list3 = [\"Hello\",\"I\",\"Love\",\"Python\"]\n",
    "index1_no = my_list3.index(\"Python\") #find the index of \"Python\"\n",
    "print(type(my_list3))  #check the type of the list\n",
    "print(index1_no) #print the index\n",
    "\n",
    "\n",
    "#Error Handle \n",
    "my_list = [10, 20, 30, 40,100,120,110,300]#Define a list.\n",
    "#Try to find the index of an element not in the list (50).\n",
    "try:\n",
    "    index_of_50 = my_list.index(50)\n",
    "except ValueError:\n",
    "    print(\"Element not found\")  # Output: Element not found\n"
   ]
  }
 ],
 "metadata": {
  "kernelspec": {
   "display_name": "Python 3",
   "language": "python",
   "name": "python3"
  },
  "language_info": {
   "codemirror_mode": {
    "name": "ipython",
    "version": 3
   },
   "file_extension": ".py",
   "mimetype": "text/x-python",
   "name": "python",
   "nbconvert_exporter": "python",
   "pygments_lexer": "ipython3",
   "version": "3.13.0"
  }
 },
 "nbformat": 4,
 "nbformat_minor": 2
}
